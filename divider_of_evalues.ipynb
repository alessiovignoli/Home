{
 "cells": [
  {
   "cell_type": "code",
   "execution_count": 1,
   "metadata": {},
   "outputs": [],
   "source": [
    "#!/usr/bin/python2\n",
    "import sys\n",
    "import numpy as np"
   ]
  },
  {
   "cell_type": "code",
   "execution_count": 4,
   "metadata": {},
   "outputs": [],
   "source": [
    "def divider_of_evalues(file, factor, column_of_evalue=1):\n",
    "        f = open(file)\n",
    "        for line in f:\n",
    "            list_of_columns = line.rstrip().split()\n",
    "            list_of_columns[column_of_evalue] = list_of_columns[column_of_evalue] / factor\n",
    "            print(line)"
   ]
  },
  {
   "cell_type": "code",
   "execution_count": 5,
   "metadata": {},
   "outputs": [
    {
     "ename": "SyntaxError",
     "evalue": "invalid syntax (<ipython-input-5-f7fe3ee37267>, line 1)",
     "output_type": "error",
     "traceback": [
      "\u001b[0;36m  File \u001b[0;32m\"<ipython-input-5-f7fe3ee37267>\"\u001b[0;36m, line \u001b[0;32m1\u001b[0m\n\u001b[0;31m    if __name__ = \"__main__\":\u001b[0m\n\u001b[0m                ^\u001b[0m\n\u001b[0;31mSyntaxError\u001b[0m\u001b[0;31m:\u001b[0m invalid syntax\n"
     ]
    }
   ],
   "source": [
    "if __name__ = \"__main__\":\n",
    "    \n",
    "    input_file = sys.argv[1]\n",
    "    dividing_factor = float(sys.argv[2])\n",
    "    column_of_evalue = 1\n",
    "    if len(sys.argv) > 3:\n",
    "        column_of_evalue = int(sys.argv[3]) - 1\n",
    "        print(\"The last thing to pecify is the column in which there is the e-value,\\\\\n",
    "        in human form not python one.\")\n",
    "    "
   ]
  }
 ],
 "metadata": {
  "kernelspec": {
   "display_name": "Python 2",
   "language": "python",
   "name": "python2"
  },
  "language_info": {
   "codemirror_mode": {
    "name": "ipython",
    "version": 2
   },
   "file_extension": ".py",
   "mimetype": "text/x-python",
   "name": "python",
   "nbconvert_exporter": "python",
   "pygments_lexer": "ipython2",
   "version": "2.7.15rc1"
  }
 },
 "nbformat": 4,
 "nbformat_minor": 2
}
